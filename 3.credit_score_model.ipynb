{
 "cells": [
  {
   "cell_type": "code",
   "execution_count": 32,
   "id": "dcddf330",
   "metadata": {},
   "outputs": [
    {
     "name": "stdout",
     "output_type": "stream",
     "text": [
      "Requirement already satisfied: statsmodels in c:\\users\\pratheek\\anaconda3\\lib\\site-packages (0.13.2)\n",
      "Requirement already satisfied: numpy>=1.17 in c:\\users\\pratheek\\anaconda3\\lib\\site-packages (from statsmodels) (1.21.5)\n",
      "Requirement already satisfied: scipy>=1.3 in c:\\users\\pratheek\\anaconda3\\lib\\site-packages (from statsmodels) (1.7.3)\n",
      "Requirement already satisfied: pandas>=0.25 in c:\\users\\pratheek\\anaconda3\\lib\\site-packages (from statsmodels) (1.4.2)\n",
      "Requirement already satisfied: patsy>=0.5.2 in c:\\users\\pratheek\\anaconda3\\lib\\site-packages (from statsmodels) (0.5.2)\n",
      "Requirement already satisfied: packaging>=21.3 in c:\\users\\pratheek\\anaconda3\\lib\\site-packages (from statsmodels) (21.3)\n",
      "Requirement already satisfied: pyparsing!=3.0.5,>=2.0.2 in c:\\users\\pratheek\\anaconda3\\lib\\site-packages (from packaging>=21.3->statsmodels) (3.0.4)\n",
      "Requirement already satisfied: python-dateutil>=2.8.1 in c:\\users\\pratheek\\anaconda3\\lib\\site-packages (from pandas>=0.25->statsmodels) (2.8.2)\n",
      "Requirement already satisfied: pytz>=2020.1 in c:\\users\\pratheek\\anaconda3\\lib\\site-packages (from pandas>=0.25->statsmodels) (2021.3)\n",
      "Requirement already satisfied: six in c:\\users\\pratheek\\anaconda3\\lib\\site-packages (from patsy>=0.5.2->statsmodels) (1.16.0)\n"
     ]
    }
   ],
   "source": [
    "!pip install statsmodels"
   ]
  },
  {
   "cell_type": "code",
   "execution_count": null,
   "id": "24aa44a5",
   "metadata": {},
   "outputs": [],
   "source": [
    "pip install -U imbalanced-learn"
   ]
  },
  {
   "cell_type": "code",
   "execution_count": 1,
   "id": "34e11422",
   "metadata": {},
   "outputs": [],
   "source": [
    "import pandas as pd\n",
    "import numpy as np\n",
    "import math\n",
    "%matplotlib inline\n",
    "import matplotlib.pyplot as plt\n",
    "import seaborn as sns\n",
    "import plotly.express as px\n",
    "from scipy import stats as st\n",
    "import optuna\n",
    "\n",
    "\n",
    "import warnings\n",
    "warnings.filterwarnings(\"ignore\")\n",
    "\n",
    "from sklearn.preprocessing import StandardScaler,LabelEncoder,OneHotEncoder\n",
    "from sklearn.model_selection import train_test_split,cross_val_score,RandomizedSearchCV,StratifiedKFold\n",
    "from sklearn.pipeline import Pipeline\n",
    "from sklearn.decomposition import PCA\n",
    "from sklearn.linear_model import LogisticRegression\n",
    "from sklearn.ensemble import RandomForestClassifier\n",
    "from sklearn.neighbors import KNeighborsClassifier\n",
    "from sklearn.naive_bayes import GaussianNB\n",
    "from sklearn.tree import plot_tree\n",
    "from sklearn.metrics import precision_recall_curve\n",
    "from optuna.visualization import plot_optimization_history\n",
    "from sklearn.metrics import classification_report, precision_score, recall_score,accuracy_score, f1_score,ConfusionMatrixDisplay"
   ]
  },
  {
   "cell_type": "code",
   "execution_count": 34,
   "id": "e9ed4910",
   "metadata": {},
   "outputs": [
    {
     "data": {
      "text/html": [
       "<div>\n",
       "<style scoped>\n",
       "    .dataframe tbody tr th:only-of-type {\n",
       "        vertical-align: middle;\n",
       "    }\n",
       "\n",
       "    .dataframe tbody tr th {\n",
       "        vertical-align: top;\n",
       "    }\n",
       "\n",
       "    .dataframe thead th {\n",
       "        text-align: right;\n",
       "    }\n",
       "</style>\n",
       "<table border=\"1\" class=\"dataframe\">\n",
       "  <thead>\n",
       "    <tr style=\"text-align: right;\">\n",
       "      <th></th>\n",
       "      <th>customer_id</th>\n",
       "      <th>month</th>\n",
       "      <th>age</th>\n",
       "      <th>occupation</th>\n",
       "      <th>annual_income</th>\n",
       "      <th>num_bank_accounts</th>\n",
       "      <th>num_credit_card</th>\n",
       "      <th>interest_rate</th>\n",
       "      <th>num_of_loan</th>\n",
       "      <th>type_of_loan</th>\n",
       "      <th>...</th>\n",
       "      <th>credit_mix</th>\n",
       "      <th>outstanding_debt</th>\n",
       "      <th>credit_utilization_ratio</th>\n",
       "      <th>credit_history_age</th>\n",
       "      <th>payment_of_min_amount</th>\n",
       "      <th>total_emi_per_month</th>\n",
       "      <th>amount_invested_monthly</th>\n",
       "      <th>monthly_balance</th>\n",
       "      <th>credit_score</th>\n",
       "      <th>payment_behaviour</th>\n",
       "    </tr>\n",
       "  </thead>\n",
       "  <tbody>\n",
       "    <tr>\n",
       "      <th>0</th>\n",
       "      <td>CUS_0xd40</td>\n",
       "      <td>January</td>\n",
       "      <td>23.0</td>\n",
       "      <td>Scientist</td>\n",
       "      <td>19114.12</td>\n",
       "      <td>3.0</td>\n",
       "      <td>4.0</td>\n",
       "      <td>3.0</td>\n",
       "      <td>4.0</td>\n",
       "      <td>Auto Loan, Credit-Builder Loan, Personal Loan,...</td>\n",
       "      <td>...</td>\n",
       "      <td>Good</td>\n",
       "      <td>809.98</td>\n",
       "      <td>26.822620</td>\n",
       "      <td>265.0</td>\n",
       "      <td>No</td>\n",
       "      <td>49.574949</td>\n",
       "      <td>80.415295</td>\n",
       "      <td>312.494089</td>\n",
       "      <td>Good</td>\n",
       "      <td>High_spent_Medium_value_payments</td>\n",
       "    </tr>\n",
       "    <tr>\n",
       "      <th>1</th>\n",
       "      <td>CUS_0xd40</td>\n",
       "      <td>March</td>\n",
       "      <td>23.0</td>\n",
       "      <td>Scientist</td>\n",
       "      <td>19114.12</td>\n",
       "      <td>3.0</td>\n",
       "      <td>4.0</td>\n",
       "      <td>3.0</td>\n",
       "      <td>4.0</td>\n",
       "      <td>Auto Loan, Credit-Builder Loan, Personal Loan,...</td>\n",
       "      <td>...</td>\n",
       "      <td>Good</td>\n",
       "      <td>809.98</td>\n",
       "      <td>28.609352</td>\n",
       "      <td>267.0</td>\n",
       "      <td>No</td>\n",
       "      <td>49.574949</td>\n",
       "      <td>81.699521</td>\n",
       "      <td>331.209863</td>\n",
       "      <td>Good</td>\n",
       "      <td>High_spent_Medium_value_payments</td>\n",
       "    </tr>\n",
       "  </tbody>\n",
       "</table>\n",
       "<p>2 rows × 24 columns</p>\n",
       "</div>"
      ],
      "text/plain": [
       "  customer_id    month   age occupation  annual_income  num_bank_accounts  \\\n",
       "0   CUS_0xd40  January  23.0  Scientist       19114.12                3.0   \n",
       "1   CUS_0xd40    March  23.0  Scientist       19114.12                3.0   \n",
       "\n",
       "   num_credit_card  interest_rate  num_of_loan  \\\n",
       "0              4.0            3.0          4.0   \n",
       "1              4.0            3.0          4.0   \n",
       "\n",
       "                                        type_of_loan  ...  credit_mix  \\\n",
       "0  Auto Loan, Credit-Builder Loan, Personal Loan,...  ...        Good   \n",
       "1  Auto Loan, Credit-Builder Loan, Personal Loan,...  ...        Good   \n",
       "\n",
       "   outstanding_debt  credit_utilization_ratio  credit_history_age  \\\n",
       "0            809.98                 26.822620               265.0   \n",
       "1            809.98                 28.609352               267.0   \n",
       "\n",
       "  payment_of_min_amount  total_emi_per_month  amount_invested_monthly  \\\n",
       "0                    No            49.574949                80.415295   \n",
       "1                    No            49.574949                81.699521   \n",
       "\n",
       "   monthly_balance credit_score                 payment_behaviour  \n",
       "0       312.494089         Good  High_spent_Medium_value_payments  \n",
       "1       331.209863         Good  High_spent_Medium_value_payments  \n",
       "\n",
       "[2 rows x 24 columns]"
      ]
     },
     "execution_count": 34,
     "metadata": {},
     "output_type": "execute_result"
    }
   ],
   "source": [
    "df=pd.read_csv(\"df.csv\")\n",
    "df.head(2)"
   ]
  },
  {
   "cell_type": "code",
   "execution_count": 35,
   "id": "15879508",
   "metadata": {
    "scrolled": false
   },
   "outputs": [
    {
     "data": {
      "text/html": [
       "<div>\n",
       "<style scoped>\n",
       "    .dataframe tbody tr th:only-of-type {\n",
       "        vertical-align: middle;\n",
       "    }\n",
       "\n",
       "    .dataframe tbody tr th {\n",
       "        vertical-align: top;\n",
       "    }\n",
       "\n",
       "    .dataframe thead th {\n",
       "        text-align: right;\n",
       "    }\n",
       "</style>\n",
       "<table border=\"1\" class=\"dataframe\">\n",
       "  <thead>\n",
       "    <tr style=\"text-align: right;\">\n",
       "      <th></th>\n",
       "      <th>annual_income</th>\n",
       "      <th>num_bank_accounts</th>\n",
       "      <th>num_credit_card</th>\n",
       "      <th>interest_rate</th>\n",
       "      <th>num_of_loan</th>\n",
       "      <th>delay_from_due_date</th>\n",
       "      <th>num_of_delayed_payment</th>\n",
       "      <th>changed_credit_limit</th>\n",
       "      <th>num_credit_inquiries</th>\n",
       "      <th>credit_mix</th>\n",
       "      <th>outstanding_debt</th>\n",
       "      <th>credit_utilization_ratio</th>\n",
       "      <th>credit_history_age</th>\n",
       "      <th>payment_of_min_amount</th>\n",
       "      <th>monthly_balance</th>\n",
       "      <th>credit_score</th>\n",
       "      <th>payment_behaviour</th>\n",
       "    </tr>\n",
       "  </thead>\n",
       "  <tbody>\n",
       "    <tr>\n",
       "      <th>0</th>\n",
       "      <td>19114.12</td>\n",
       "      <td>3.0</td>\n",
       "      <td>4.0</td>\n",
       "      <td>3.0</td>\n",
       "      <td>4.0</td>\n",
       "      <td>3</td>\n",
       "      <td>7.0</td>\n",
       "      <td>11.27</td>\n",
       "      <td>4.0</td>\n",
       "      <td>Good</td>\n",
       "      <td>809.98</td>\n",
       "      <td>26.822620</td>\n",
       "      <td>265.0</td>\n",
       "      <td>No</td>\n",
       "      <td>312.494089</td>\n",
       "      <td>Good</td>\n",
       "      <td>High_spent_Medium_value_payments</td>\n",
       "    </tr>\n",
       "    <tr>\n",
       "      <th>1</th>\n",
       "      <td>19114.12</td>\n",
       "      <td>3.0</td>\n",
       "      <td>4.0</td>\n",
       "      <td>3.0</td>\n",
       "      <td>4.0</td>\n",
       "      <td>3</td>\n",
       "      <td>7.0</td>\n",
       "      <td>10.27</td>\n",
       "      <td>4.0</td>\n",
       "      <td>Good</td>\n",
       "      <td>809.98</td>\n",
       "      <td>28.609352</td>\n",
       "      <td>267.0</td>\n",
       "      <td>No</td>\n",
       "      <td>331.209863</td>\n",
       "      <td>Good</td>\n",
       "      <td>High_spent_Medium_value_payments</td>\n",
       "    </tr>\n",
       "    <tr>\n",
       "      <th>2</th>\n",
       "      <td>19114.12</td>\n",
       "      <td>3.0</td>\n",
       "      <td>4.0</td>\n",
       "      <td>3.0</td>\n",
       "      <td>4.0</td>\n",
       "      <td>5</td>\n",
       "      <td>4.0</td>\n",
       "      <td>6.27</td>\n",
       "      <td>4.0</td>\n",
       "      <td>Good</td>\n",
       "      <td>809.98</td>\n",
       "      <td>31.377862</td>\n",
       "      <td>268.0</td>\n",
       "      <td>No</td>\n",
       "      <td>223.451310</td>\n",
       "      <td>Good</td>\n",
       "      <td>High_spent_Medium_value_payments</td>\n",
       "    </tr>\n",
       "    <tr>\n",
       "      <th>3</th>\n",
       "      <td>19114.12</td>\n",
       "      <td>3.0</td>\n",
       "      <td>4.0</td>\n",
       "      <td>3.0</td>\n",
       "      <td>4.0</td>\n",
       "      <td>6</td>\n",
       "      <td>6.0</td>\n",
       "      <td>11.27</td>\n",
       "      <td>4.0</td>\n",
       "      <td>Good</td>\n",
       "      <td>809.98</td>\n",
       "      <td>24.797347</td>\n",
       "      <td>269.0</td>\n",
       "      <td>No</td>\n",
       "      <td>341.489231</td>\n",
       "      <td>Good</td>\n",
       "      <td>High_spent_Medium_value_payments</td>\n",
       "    </tr>\n",
       "    <tr>\n",
       "      <th>4</th>\n",
       "      <td>19114.12</td>\n",
       "      <td>3.0</td>\n",
       "      <td>4.0</td>\n",
       "      <td>3.0</td>\n",
       "      <td>4.0</td>\n",
       "      <td>8</td>\n",
       "      <td>4.0</td>\n",
       "      <td>9.27</td>\n",
       "      <td>4.0</td>\n",
       "      <td>Good</td>\n",
       "      <td>809.98</td>\n",
       "      <td>27.262259</td>\n",
       "      <td>270.0</td>\n",
       "      <td>No</td>\n",
       "      <td>340.479212</td>\n",
       "      <td>Good</td>\n",
       "      <td>High_spent_Medium_value_payments</td>\n",
       "    </tr>\n",
       "  </tbody>\n",
       "</table>\n",
       "</div>"
      ],
      "text/plain": [
       "   annual_income  num_bank_accounts  num_credit_card  interest_rate  \\\n",
       "0       19114.12                3.0              4.0            3.0   \n",
       "1       19114.12                3.0              4.0            3.0   \n",
       "2       19114.12                3.0              4.0            3.0   \n",
       "3       19114.12                3.0              4.0            3.0   \n",
       "4       19114.12                3.0              4.0            3.0   \n",
       "\n",
       "   num_of_loan  delay_from_due_date  num_of_delayed_payment  \\\n",
       "0          4.0                    3                     7.0   \n",
       "1          4.0                    3                     7.0   \n",
       "2          4.0                    5                     4.0   \n",
       "3          4.0                    6                     6.0   \n",
       "4          4.0                    8                     4.0   \n",
       "\n",
       "   changed_credit_limit  num_credit_inquiries credit_mix  outstanding_debt  \\\n",
       "0                 11.27                   4.0       Good            809.98   \n",
       "1                 10.27                   4.0       Good            809.98   \n",
       "2                  6.27                   4.0       Good            809.98   \n",
       "3                 11.27                   4.0       Good            809.98   \n",
       "4                  9.27                   4.0       Good            809.98   \n",
       "\n",
       "   credit_utilization_ratio  credit_history_age payment_of_min_amount  \\\n",
       "0                 26.822620               265.0                    No   \n",
       "1                 28.609352               267.0                    No   \n",
       "2                 31.377862               268.0                    No   \n",
       "3                 24.797347               269.0                    No   \n",
       "4                 27.262259               270.0                    No   \n",
       "\n",
       "   monthly_balance credit_score                 payment_behaviour  \n",
       "0       312.494089         Good  High_spent_Medium_value_payments  \n",
       "1       331.209863         Good  High_spent_Medium_value_payments  \n",
       "2       223.451310         Good  High_spent_Medium_value_payments  \n",
       "3       341.489231         Good  High_spent_Medium_value_payments  \n",
       "4       340.479212         Good  High_spent_Medium_value_payments  "
      ]
     },
     "execution_count": 35,
     "metadata": {},
     "output_type": "execute_result"
    }
   ],
   "source": [
    "df=df.drop([\"customer_id\",\"month\",\"age\",\"occupation\",\"type_of_loan\",\"amount_invested_monthly\",\"total_emi_per_month\"],axis=1)\n",
    "df.head()"
   ]
  },
  {
   "cell_type": "code",
   "execution_count": 36,
   "id": "d561c47c",
   "metadata": {},
   "outputs": [],
   "source": [
    "df1=df.drop(columns=[\"credit_score\"])"
   ]
  },
  {
   "cell_type": "code",
   "execution_count": 37,
   "id": "ef4b9a59",
   "metadata": {},
   "outputs": [],
   "source": [
    "le=LabelEncoder()\n",
    "ohe=OneHotEncoder()\n",
    "df[\"credit_mix\"]=le.fit_transform(df[\"credit_mix\"])\n",
    "s=pd.DataFrame(ohe.fit_transform(df[[\"payment_behaviour\",\"payment_of_min_amount\"]]).toarray())"
   ]
  },
  {
   "cell_type": "code",
   "execution_count": 38,
   "id": "6a5fccbe",
   "metadata": {},
   "outputs": [],
   "source": [
    "df=df.drop(columns=[\"payment_behaviour\",\"payment_of_min_amount\"])\n",
    "df=df.join(s)"
   ]
  },
  {
   "cell_type": "code",
   "execution_count": 39,
   "id": "500d82a2",
   "metadata": {},
   "outputs": [],
   "source": [
    "y=df[\"credit_score\"]\n",
    "X=df.drop(columns=[\"credit_score\"])"
   ]
  },
  {
   "cell_type": "code",
   "execution_count": null,
   "id": "2e319e8a",
   "metadata": {},
   "outputs": [],
   "source": []
  },
  {
   "cell_type": "code",
   "execution_count": 40,
   "id": "f130209b",
   "metadata": {},
   "outputs": [
    {
     "data": {
      "text/plain": [
       "(59028, 23)"
      ]
     },
     "execution_count": 40,
     "metadata": {},
     "output_type": "execute_result"
    }
   ],
   "source": [
    "X.shape"
   ]
  },
  {
   "cell_type": "code",
   "execution_count": null,
   "id": "80fb1fa5",
   "metadata": {},
   "outputs": [],
   "source": []
  },
  {
   "cell_type": "code",
   "execution_count": null,
   "id": "5f2b2753",
   "metadata": {},
   "outputs": [],
   "source": []
  },
  {
   "cell_type": "code",
   "execution_count": null,
   "id": "01376a6b",
   "metadata": {},
   "outputs": [],
   "source": [
    "\n"
   ]
  },
  {
   "cell_type": "code",
   "execution_count": null,
   "id": "f301aa41",
   "metadata": {},
   "outputs": [],
   "source": []
  },
  {
   "cell_type": "code",
   "execution_count": 41,
   "id": "66e78fa2",
   "metadata": {},
   "outputs": [],
   "source": [
    "# v=pd.DataFrame(X)\n",
    "# from statsmodels.stats.outliers_influence import variance_inflation_factor\n",
    "# vif = pd.DataFrame()\n",
    "# vif[\"Variable\"] = v.columns\n",
    "# vif[\"VIF\"] = [variance_inflation_factor(v.values, i) for i in range(v.shape[1])]\n",
    "# d=pd.DataFrame({\"column\":v.columns,\"VIF\":vif[\"VIF\"]})"
   ]
  },
  {
   "cell_type": "code",
   "execution_count": 42,
   "id": "1f0ab21c",
   "metadata": {},
   "outputs": [],
   "source": [
    "y=le.fit_transform(df[\"credit_score\"])"
   ]
  },
  {
   "cell_type": "code",
   "execution_count": 43,
   "id": "9ae87452",
   "metadata": {},
   "outputs": [],
   "source": [
    "se=StandardScaler()\n",
    "X=se.fit_transform(X)"
   ]
  },
  {
   "cell_type": "code",
   "execution_count": 44,
   "id": "2415e7a1",
   "metadata": {},
   "outputs": [],
   "source": [
    "train_X,test_X,train_y,test_y=train_test_split(X,y,test_size=0.2,stratify=y)"
   ]
  },
  {
   "cell_type": "code",
   "execution_count": 45,
   "id": "534c7b2f",
   "metadata": {},
   "outputs": [
    {
     "name": "stdout",
     "output_type": "stream",
     "text": [
      "(47222, 23) (11806, 23) (47222,) (11806,)\n"
     ]
    }
   ],
   "source": [
    "print(train_X.shape,test_X.shape,train_y.shape,test_y.shape)"
   ]
  },
  {
   "cell_type": "code",
   "execution_count": null,
   "id": "f5ff495d",
   "metadata": {},
   "outputs": [],
   "source": []
  },
  {
   "cell_type": "code",
   "execution_count": null,
   "id": "f3bf62b9",
   "metadata": {},
   "outputs": [],
   "source": []
  },
  {
   "cell_type": "code",
   "execution_count": 46,
   "id": "27b8ca82",
   "metadata": {},
   "outputs": [],
   "source": [
    "# ohe=OneHotEncoder()\n",
    "# le1=le.fit_transform(df[\"credit_mix\"])\n",
    "# dummy=pd.get_dummies(df[[\"payment_behaviour\",\"payment_of_min_amount\"]])\n",
    "# X=X.drop([\"credit_mix\",\"payment_behaviour\",\"payment_of_min_amount\"],axis=1)"
   ]
  },
  {
   "cell_type": "code",
   "execution_count": null,
   "id": "c087c6a7",
   "metadata": {},
   "outputs": [],
   "source": []
  },
  {
   "cell_type": "code",
   "execution_count": 47,
   "id": "265d01c3",
   "metadata": {},
   "outputs": [],
   "source": [
    "# import numpy as np\n",
    "# from sklearn.model_selection import StratifiedKFold\n",
    "# kfold = StratifiedKFold(n_splits=10, shuffle=True, random_state=1)\n",
    "# scores = []\n",
    "# folds=list(kfold.split(X_train,y_train))\n",
    "# for k,(train,test) in enumerate(folds):\n",
    "#     pipe_lr.fit(train_X[train], train_y[train])\n",
    "#     score = (X_train[test], y_train[test])\n",
    "#     scores.append(score)\n",
    "#     print('Fold: %s, Class dist.: %s, Acc: %.3f' % (k+1, np.bincount(y_train[train]),score))"
   ]
  },
  {
   "cell_type": "code",
   "execution_count": 48,
   "id": "67edd921",
   "metadata": {},
   "outputs": [],
   "source": [
    "def train_and_evaluate_model(model):\n",
    "        model.fit(train_X,train_y)\n",
    "        y_pred=model.predict(train_X)\n",
    "        print(classification_report(train_y,y_pred))\n",
    "        acc=accuracy_score(train_y,y_pred)\n",
    "        precision=precision_score(train_y,y_pred,average=\"micro\")\n",
    "        recall=recall_score(train_y,y_pred,average=\"micro\")\n",
    "        f1=f1_score(train_y,y_pred,average=\"micro\")\n",
    "        ConfusionMatrixDisplay.from_predictions(train_y,y_pred)\n",
    "        plt.show()\n"
   ]
  },
  {
   "cell_type": "code",
   "execution_count": 49,
   "id": "d23ff797",
   "metadata": {},
   "outputs": [],
   "source": [
    "model_names1 = []\n",
    "accuracy_scores1 = []\n",
    "precision_scores1 = []\n",
    "recall_scores1 = []\n",
    "f1_scores1 = []"
   ]
  },
  {
   "cell_type": "code",
   "execution_count": 51,
   "id": "38a413d2",
   "metadata": {},
   "outputs": [],
   "source": [
    "def test_and_evaluate_model(model):\n",
    "    model.fit(train_X,train_y)\n",
    "    y_pred=model.predict(test_X)\n",
    "    print(classification_report(test_y,y_pred))\n",
    "    acc=accuracy_score(test_y,y_pred)\n",
    "    precision=precision_score(test_y,y_pred,average=\"micro\")\n",
    "    recall=recall_score(test_y,y_pred,average=\"micro\")\n",
    "    f1=f1_score(test_y,y_pred,average=\"micro\")\n",
    "    ConfusionMatrixDisplay.from_predictions(test_y,y_pred)\n",
    "    plt.show()\n",
    "    model_names1.append(model)\n",
    "    accuracy_scores1.append(acc)\n",
    "    precision_scores1.append(precision)\n",
    "    recall_scores1.append(recall)\n",
    "    f1_scores1.append(f1)"
   ]
  },
  {
   "cell_type": "markdown",
   "id": "465e4385",
   "metadata": {},
   "source": [
    "# Random forest classifier"
   ]
  },
  {
   "cell_type": "code",
   "execution_count": 52,
   "id": "77fbacce",
   "metadata": {},
   "outputs": [
    {
     "name": "stdout",
     "output_type": "stream",
     "text": [
      "              precision    recall  f1-score   support\n",
      "\n",
      "           0       1.00      1.00      1.00      6054\n",
      "           1       1.00      1.00      1.00     15730\n",
      "           2       1.00      1.00      1.00     25438\n",
      "\n",
      "    accuracy                           1.00     47222\n",
      "   macro avg       1.00      1.00      1.00     47222\n",
      "weighted avg       1.00      1.00      1.00     47222\n",
      "\n"
     ]
    },
    {
     "data": {
      "image/png": "[encoded data removed]",
      "text/plain": [
       "<Figure size 432x288 with 2 Axes>"
      ]
     },
     "metadata": {
      "needs_background": "light"
     },
     "output_type": "display_data"
    }
   ],
   "source": [
    "train_and_evaluate_model(RandomForestClassifier())"
   ]
  },
  {
   "cell_type": "code",
   "execution_count": 53,
   "id": "5f44128d",
   "metadata": {},
   "outputs": [
    {
     "name": "stdout",
     "output_type": "stream",
     "text": [
      "              precision    recall  f1-score   support\n",
      "\n",
      "           0       0.77      0.69      0.73      1514\n",
      "           1       0.80      0.83      0.81      3933\n",
      "           2       0.83      0.82      0.83      6359\n",
      "\n",
      "    accuracy                           0.81     11806\n",
      "   macro avg       0.80      0.78      0.79     11806\n",
      "weighted avg       0.81      0.81      0.81     11806\n",
      "\n"
     ]
    },
    {
     "data": {
      "image/png": "[encoded data removed]",
      "text/plain": [
       "<Figure size 432x288 with 2 Axes>"
      ]
     },
     "metadata": {
      "needs_background": "light"
     },
     "output_type": "display_data"
    }
   ],
   "source": [
    "test_and_evaluate_model(RandomForestClassifier())"
   ]
  },
  {
   "cell_type": "markdown",
   "id": "b68ce8c3",
   "metadata": {},
   "source": [
    "## Hyperparamter tuning"
   ]
  },
  {
   "cell_type": "code",
   "execution_count": 54,
   "id": "7796be42",
   "metadata": {},
   "outputs": [],
   "source": [
    "param_grid = {'criterion': ['gini','entropy'],\n",
    "              'max_features': ['sqrt','log2'],\n",
    "              'max_depth': [2,12,38,68,98,128,201]\n",
    "             }"
   ]
  },
  {
   "cell_type": "code",
   "execution_count": 55,
   "id": "544830c0",
   "metadata": {},
   "outputs": [
    {
     "name": "stdout",
     "output_type": "stream",
     "text": [
      "              precision    recall  f1-score   support\n",
      "\n",
      "           0       1.00      1.00      1.00      6054\n",
      "           1       1.00      1.00      1.00     15730\n",
      "           2       1.00      1.00      1.00     25438\n",
      "\n",
      "    accuracy                           1.00     47222\n",
      "   macro avg       1.00      1.00      1.00     47222\n",
      "weighted avg       1.00      1.00      1.00     47222\n",
      "\n"
     ]
    },
    {
     "data": {
      "image/png": "[encoded data removed]",
      "text/plain": [
       "<Figure size 432x288 with 2 Axes>"
      ]
     },
     "metadata": {
      "needs_background": "light"
     },
     "output_type": "display_data"
    }
   ],
   "source": [
    "grid_dt = RandomizedSearchCV(RandomForestClassifier(),param_grid,n_jobs=1,cv=5)\n",
    "\n",
    "train_and_evaluate_model(grid_dt)"
   ]
  },
  {
   "cell_type": "code",
   "execution_count": 56,
   "id": "27374649",
   "metadata": {},
   "outputs": [
    {
     "name": "stdout",
     "output_type": "stream",
     "text": [
      "              precision    recall  f1-score   support\n",
      "\n",
      "           0       0.76      0.70      0.73      1514\n",
      "           1       0.79      0.84      0.82      3933\n",
      "           2       0.83      0.82      0.82      6359\n",
      "\n",
      "    accuracy                           0.81     11806\n",
      "   macro avg       0.79      0.78      0.79     11806\n",
      "weighted avg       0.81      0.81      0.81     11806\n",
      "\n"
     ]
    },
    {
     "data": {
      "image/png": "[encoded data removed]",
      "text/plain": [
       "<Figure size 432x288 with 2 Axes>"
      ]
     },
     "metadata": {
      "needs_background": "light"
     },
     "output_type": "display_data"
    }
   ],
   "source": [
    "grid_dt = RandomizedSearchCV(RandomForestClassifier(),param_grid,n_jobs=1,cv=5)\n",
    "test_and_evaluate_model(grid_dt)"
   ]
  },
  {
   "cell_type": "markdown",
   "id": "d44887a4",
   "metadata": {},
   "source": [
    "# logistic Regression"
   ]
  },
  {
   "cell_type": "code",
   "execution_count": 57,
   "id": "5e6c4b65",
   "metadata": {},
   "outputs": [
    {
     "name": "stdout",
     "output_type": "stream",
     "text": [
      "              precision    recall  f1-score   support\n",
      "\n",
      "           0       0.58      0.45      0.51      6054\n",
      "           1       0.68      0.59      0.63     15730\n",
      "           2       0.68      0.77      0.72     25438\n",
      "\n",
      "    accuracy                           0.67     47222\n",
      "   macro avg       0.64      0.60      0.62     47222\n",
      "weighted avg       0.66      0.67      0.66     47222\n",
      "\n"
     ]
    },
    {
     "data": {
      "image/png": "[encoded data removed]",
      "text/plain": [
       "<Figure size 432x288 with 2 Axes>"
      ]
     },
     "metadata": {
      "needs_background": "light"
     },
     "output_type": "display_data"
    }
   ],
   "source": [
    "train_and_evaluate_model(LogisticRegression(penalty=\"l2\",random_state=1,multi_class=\"multinomial\"))"
   ]
  },
  {
   "cell_type": "code",
   "execution_count": 58,
   "id": "a953e14f",
   "metadata": {},
   "outputs": [
    {
     "name": "stdout",
     "output_type": "stream",
     "text": [
      "              precision    recall  f1-score   support\n",
      "\n",
      "           0       0.59      0.48      0.53      1514\n",
      "           1       0.68      0.58      0.63      3933\n",
      "           2       0.68      0.77      0.72      6359\n",
      "\n",
      "    accuracy                           0.67     11806\n",
      "   macro avg       0.65      0.61      0.63     11806\n",
      "weighted avg       0.67      0.67      0.67     11806\n",
      "\n"
     ]
    },
    {
     "data": {
      "image/png": "[encoded data removed]",
      "text/plain": [
       "<Figure size 432x288 with 2 Axes>"
      ]
     },
     "metadata": {
      "needs_background": "light"
     },
     "output_type": "display_data"
    }
   ],
   "source": [
    "test_and_evaluate_model(LogisticRegression(penalty=\"l2\",random_state=1,multi_class=\"multinomial\"))"
   ]
  },
  {
   "cell_type": "code",
   "execution_count": null,
   "id": "99197c9b",
   "metadata": {},
   "outputs": [],
   "source": []
  },
  {
   "cell_type": "markdown",
   "id": "c4390983",
   "metadata": {},
   "source": [
    "# hyper parameter tuning"
   ]
  },
  {
   "cell_type": "code",
   "execution_count": 59,
   "id": "47144c7d",
   "metadata": {},
   "outputs": [
    {
     "name": "stdout",
     "output_type": "stream",
     "text": [
      "Fitting 5 folds for each of 10 candidates, totalling 50 fits\n",
      "[CV] END C=10, l1_ratio=0.2, multi_class=ovr, penalty=elasticnet, solver=sag; total time=   0.0s\n",
      "[CV] END C=10, l1_ratio=0.2, multi_class=ovr, penalty=elasticnet, solver=sag; total time=   0.0s\n",
      "[CV] END C=10, l1_ratio=0.2, multi_class=ovr, penalty=elasticnet, solver=sag; total time=   0.0s\n",
      "[CV] END C=10, l1_ratio=0.2, multi_class=ovr, penalty=elasticnet, solver=sag; total time=   0.0s\n",
      "[CV] END C=10, l1_ratio=0.2, multi_class=ovr, penalty=elasticnet, solver=sag; total time=   0.0s\n",
      "[CV] END C=1, l1_ratio=0.8, multi_class=ovr, penalty=l2, solver=liblinear; total time=   0.8s\n",
      "[CV] END C=1, l1_ratio=0.8, multi_class=ovr, penalty=l2, solver=liblinear; total time=   0.8s\n",
      "[CV] END C=1, l1_ratio=0.8, multi_class=ovr, penalty=l2, solver=liblinear; total time=   0.8s\n",
      "[CV] END C=1, l1_ratio=0.8, multi_class=ovr, penalty=l2, solver=liblinear; total time=   0.8s\n",
      "[CV] END C=1, l1_ratio=0.8, multi_class=ovr, penalty=l2, solver=liblinear; total time=   0.8s\n",
      "[CV] END C=10, l1_ratio=0.2, multi_class=multinomial, penalty=l1, solver=newton-cg; total time=   0.0s\n",
      "[CV] END C=10, l1_ratio=0.2, multi_class=multinomial, penalty=l1, solver=newton-cg; total time=   0.0s\n",
      "[CV] END C=10, l1_ratio=0.2, multi_class=multinomial, penalty=l1, solver=newton-cg; total time=   0.0s\n",
      "[CV] END C=10, l1_ratio=0.2, multi_class=multinomial, penalty=l1, solver=newton-cg; total time=   0.0s\n",
      "[CV] END C=10, l1_ratio=0.2, multi_class=multinomial, penalty=l1, solver=newton-cg; total time=   0.0s\n",
      "[CV] END C=10, l1_ratio=0.5, multi_class=ovr, penalty=l2, solver=lbfgs; total time=   0.3s\n",
      "[CV] END C=10, l1_ratio=0.5, multi_class=ovr, penalty=l2, solver=lbfgs; total time=   0.3s\n",
      "[CV] END C=10, l1_ratio=0.5, multi_class=ovr, penalty=l2, solver=lbfgs; total time=   0.3s\n",
      "[CV] END C=10, l1_ratio=0.5, multi_class=ovr, penalty=l2, solver=lbfgs; total time=   0.3s\n",
      "[CV] END C=10, l1_ratio=0.5, multi_class=ovr, penalty=l2, solver=lbfgs; total time=   0.3s\n",
      "[CV] END C=10, l1_ratio=0.2, multi_class=ovr, penalty=elasticnet, solver=newton-cg; total time=   0.0s\n",
      "[CV] END C=10, l1_ratio=0.2, multi_class=ovr, penalty=elasticnet, solver=newton-cg; total time=   0.0s\n",
      "[CV] END C=10, l1_ratio=0.2, multi_class=ovr, penalty=elasticnet, solver=newton-cg; total time=   0.0s\n",
      "[CV] END C=10, l1_ratio=0.2, multi_class=ovr, penalty=elasticnet, solver=newton-cg; total time=   0.0s\n",
      "[CV] END C=10, l1_ratio=0.2, multi_class=ovr, penalty=elasticnet, solver=newton-cg; total time=   0.0s\n",
      "[CV] END C=10, l1_ratio=0.5, multi_class=multinomial, penalty=elasticnet, solver=lbfgs; total time=   0.0s\n",
      "[CV] END C=10, l1_ratio=0.5, multi_class=multinomial, penalty=elasticnet, solver=lbfgs; total time=   0.0s\n",
      "[CV] END C=10, l1_ratio=0.5, multi_class=multinomial, penalty=elasticnet, solver=lbfgs; total time=   0.0s\n",
      "[CV] END C=10, l1_ratio=0.5, multi_class=multinomial, penalty=elasticnet, solver=lbfgs; total time=   0.0s\n",
      "[CV] END C=10, l1_ratio=0.5, multi_class=multinomial, penalty=elasticnet, solver=lbfgs; total time=   0.0s\n",
      "[CV] END C=10, l1_ratio=0.5, multi_class=ovr, penalty=l2, solver=sag; total time=   4.2s\n",
      "[CV] END C=10, l1_ratio=0.5, multi_class=ovr, penalty=l2, solver=sag; total time=   4.3s\n",
      "[CV] END C=10, l1_ratio=0.5, multi_class=ovr, penalty=l2, solver=sag; total time=   4.3s\n",
      "[CV] END C=10, l1_ratio=0.5, multi_class=ovr, penalty=l2, solver=sag; total time=   5.0s\n",
      "[CV] END C=10, l1_ratio=0.5, multi_class=ovr, penalty=l2, solver=sag; total time=   4.1s\n",
      "[CV] END C=0.01, l1_ratio=0.2, multi_class=multinomial, penalty=l2, solver=lbfgs; total time=   1.0s\n",
      "[CV] END C=0.01, l1_ratio=0.2, multi_class=multinomial, penalty=l2, solver=lbfgs; total time=   0.9s\n",
      "[CV] END C=0.01, l1_ratio=0.2, multi_class=multinomial, penalty=l2, solver=lbfgs; total time=   1.0s\n",
      "[CV] END C=0.01, l1_ratio=0.2, multi_class=multinomial, penalty=l2, solver=lbfgs; total time=   1.0s\n",
      "[CV] END C=0.01, l1_ratio=0.2, multi_class=multinomial, penalty=l2, solver=lbfgs; total time=   1.0s\n",
      "[CV] END C=0.001, l1_ratio=0.8, multi_class=ovr, penalty=elasticnet, solver=lbfgs; total time=   0.0s\n",
      "[CV] END C=0.001, l1_ratio=0.8, multi_class=ovr, penalty=elasticnet, solver=lbfgs; total time=   0.0s\n",
      "[CV] END C=0.001, l1_ratio=0.8, multi_class=ovr, penalty=elasticnet, solver=lbfgs; total time=   0.0s\n",
      "[CV] END C=0.001, l1_ratio=0.8, multi_class=ovr, penalty=elasticnet, solver=lbfgs; total time=   0.0s\n",
      "[CV] END C=0.001, l1_ratio=0.8, multi_class=ovr, penalty=elasticnet, solver=lbfgs; total time=   0.0s\n",
      "[CV] END C=0.01, l1_ratio=0.5, multi_class=ovr, penalty=l2, solver=liblinear; total time=   0.7s\n",
      "[CV] END C=0.01, l1_ratio=0.5, multi_class=ovr, penalty=l2, solver=liblinear; total time=   0.7s\n",
      "[CV] END C=0.01, l1_ratio=0.5, multi_class=ovr, penalty=l2, solver=liblinear; total time=   0.7s\n",
      "[CV] END C=0.01, l1_ratio=0.5, multi_class=ovr, penalty=l2, solver=liblinear; total time=   0.7s\n",
      "[CV] END C=0.01, l1_ratio=0.5, multi_class=ovr, penalty=l2, solver=liblinear; total time=   0.7s\n",
      "              precision    recall  f1-score   support\n",
      "\n",
      "           0       0.58      0.45      0.50      6054\n",
      "           1       0.68      0.59      0.63     15730\n",
      "           2       0.68      0.77      0.72     25438\n",
      "\n",
      "    accuracy                           0.67     47222\n",
      "   macro avg       0.64      0.60      0.62     47222\n",
      "weighted avg       0.66      0.67      0.66     47222\n",
      "\n"
     ]
    },
    {
     "data": {
      "image/png": "[encoded data removed]",
      "text/plain": [
       "<Figure size 432x288 with 2 Axes>"
      ]
     },
     "metadata": {
      "needs_background": "light"
     },
     "output_type": "display_data"
    }
   ],
   "source": [
    "param_grid = {'penalty': ['l1','l2','elasticnet'],\n",
    "              'C': [0.001,0.01,1,10],\n",
    "              'solver': ['newton-cg', 'lbfgs', 'liblinear', 'sag', 'saga'],\n",
    "              'multi_class': ['ovr', 'multinomial'],\n",
    "              'l1_ratio': [0.2,0.5,0.8]\n",
    "             }\n",
    "\n",
    "grid_lr = RandomizedSearchCV(LogisticRegression(),param_grid,verbose=2,cv=5)\n",
    "train_and_evaluate_model(grid_lr)"
   ]
  },
  {
   "cell_type": "code",
   "execution_count": null,
   "id": "67d985d9",
   "metadata": {},
   "outputs": [],
   "source": []
  },
  {
   "cell_type": "code",
   "execution_count": 60,
   "id": "43d2205a",
   "metadata": {},
   "outputs": [
    {
     "name": "stdout",
     "output_type": "stream",
     "text": [
      "Fitting 5 folds for each of 10 candidates, totalling 50 fits\n",
      "[CV] END C=1, l1_ratio=0.8, multi_class=multinomial, penalty=elasticnet, solver=lbfgs; total time=   0.0s\n",
      "[CV] END C=1, l1_ratio=0.8, multi_class=multinomial, penalty=elasticnet, solver=lbfgs; total time=   0.0s\n",
      "[CV] END C=1, l1_ratio=0.8, multi_class=multinomial, penalty=elasticnet, solver=lbfgs; total time=   0.0s\n",
      "[CV] END C=1, l1_ratio=0.8, multi_class=multinomial, penalty=elasticnet, solver=lbfgs; total time=   0.0s\n",
      "[CV] END C=1, l1_ratio=0.8, multi_class=multinomial, penalty=elasticnet, solver=lbfgs; total time=   0.0s\n",
      "[CV] END C=0.01, l1_ratio=0.8, multi_class=multinomial, penalty=l2, solver=sag; total time=   1.0s\n",
      "[CV] END C=0.01, l1_ratio=0.8, multi_class=multinomial, penalty=l2, solver=sag; total time=   1.2s\n",
      "[CV] END C=0.01, l1_ratio=0.8, multi_class=multinomial, penalty=l2, solver=sag; total time=   1.1s\n",
      "[CV] END C=0.01, l1_ratio=0.8, multi_class=multinomial, penalty=l2, solver=sag; total time=   1.1s\n",
      "[CV] END C=0.01, l1_ratio=0.8, multi_class=multinomial, penalty=l2, solver=sag; total time=   1.1s\n",
      "[CV] END C=0.001, l1_ratio=0.8, multi_class=multinomial, penalty=l2, solver=newton-cg; total time=   2.0s\n",
      "[CV] END C=0.001, l1_ratio=0.8, multi_class=multinomial, penalty=l2, solver=newton-cg; total time=   2.0s\n",
      "[CV] END C=0.001, l1_ratio=0.8, multi_class=multinomial, penalty=l2, solver=newton-cg; total time=   1.9s\n",
      "[CV] END C=0.001, l1_ratio=0.8, multi_class=multinomial, penalty=l2, solver=newton-cg; total time=   2.0s\n",
      "[CV] END C=0.001, l1_ratio=0.8, multi_class=multinomial, penalty=l2, solver=newton-cg; total time=   2.0s\n",
      "[CV] END C=0.001, l1_ratio=0.5, multi_class=ovr, penalty=l1, solver=sag; total time=   0.0s\n",
      "[CV] END C=0.001, l1_ratio=0.5, multi_class=ovr, penalty=l1, solver=sag; total time=   0.0s\n",
      "[CV] END C=0.001, l1_ratio=0.5, multi_class=ovr, penalty=l1, solver=sag; total time=   0.0s\n",
      "[CV] END C=0.001, l1_ratio=0.5, multi_class=ovr, penalty=l1, solver=sag; total time=   0.0s\n",
      "[CV] END C=0.001, l1_ratio=0.5, multi_class=ovr, penalty=l1, solver=sag; total time=   0.0s\n",
      "[CV] END C=10, l1_ratio=0.8, multi_class=ovr, penalty=l1, solver=liblinear; total time=   0.8s\n",
      "[CV] END C=10, l1_ratio=0.8, multi_class=ovr, penalty=l1, solver=liblinear; total time=   0.8s\n",
      "[CV] END C=10, l1_ratio=0.8, multi_class=ovr, penalty=l1, solver=liblinear; total time=   0.8s\n",
      "[CV] END C=10, l1_ratio=0.8, multi_class=ovr, penalty=l1, solver=liblinear; total time=   0.9s\n",
      "[CV] END C=10, l1_ratio=0.8, multi_class=ovr, penalty=l1, solver=liblinear; total time=   0.8s\n",
      "[CV] END C=10, l1_ratio=0.5, multi_class=ovr, penalty=elasticnet, solver=sag; total time=   0.0s\n",
      "[CV] END C=10, l1_ratio=0.5, multi_class=ovr, penalty=elasticnet, solver=sag; total time=   0.0s\n",
      "[CV] END C=10, l1_ratio=0.5, multi_class=ovr, penalty=elasticnet, solver=sag; total time=   0.0s\n",
      "[CV] END C=10, l1_ratio=0.5, multi_class=ovr, penalty=elasticnet, solver=sag; total time=   0.0s\n",
      "[CV] END C=10, l1_ratio=0.5, multi_class=ovr, penalty=elasticnet, solver=sag; total time=   0.0s\n",
      "[CV] END C=1, l1_ratio=0.5, multi_class=multinomial, penalty=l2, solver=sag; total time=   3.4s\n",
      "[CV] END C=1, l1_ratio=0.5, multi_class=multinomial, penalty=l2, solver=sag; total time=   2.5s\n",
      "[CV] END C=1, l1_ratio=0.5, multi_class=multinomial, penalty=l2, solver=sag; total time=   2.8s\n",
      "[CV] END C=1, l1_ratio=0.5, multi_class=multinomial, penalty=l2, solver=sag; total time=   2.6s\n",
      "[CV] END C=1, l1_ratio=0.5, multi_class=multinomial, penalty=l2, solver=sag; total time=   2.9s\n",
      "[CV] END C=0.01, l1_ratio=0.2, multi_class=ovr, penalty=l2, solver=saga; total time=   2.3s\n",
      "[CV] END C=0.01, l1_ratio=0.2, multi_class=ovr, penalty=l2, solver=saga; total time=   2.2s\n",
      "[CV] END C=0.01, l1_ratio=0.2, multi_class=ovr, penalty=l2, solver=saga; total time=   2.3s\n",
      "[CV] END C=0.01, l1_ratio=0.2, multi_class=ovr, penalty=l2, solver=saga; total time=   2.9s\n",
      "[CV] END C=0.01, l1_ratio=0.2, multi_class=ovr, penalty=l2, solver=saga; total time=   2.6s\n",
      "[CV] END C=0.1, l1_ratio=0.2, multi_class=ovr, penalty=l1, solver=saga; total time=   3.3s\n",
      "[CV] END C=0.1, l1_ratio=0.2, multi_class=ovr, penalty=l1, solver=saga; total time=   2.9s\n",
      "[CV] END C=0.1, l1_ratio=0.2, multi_class=ovr, penalty=l1, solver=saga; total time=   3.0s\n",
      "[CV] END C=0.1, l1_ratio=0.2, multi_class=ovr, penalty=l1, solver=saga; total time=   3.4s\n",
      "[CV] END C=0.1, l1_ratio=0.2, multi_class=ovr, penalty=l1, solver=saga; total time=   3.2s\n",
      "[CV] END C=0.01, l1_ratio=0.8, multi_class=ovr, penalty=elasticnet, solver=newton-cg; total time=   0.0s\n",
      "[CV] END C=0.01, l1_ratio=0.8, multi_class=ovr, penalty=elasticnet, solver=newton-cg; total time=   0.0s\n",
      "[CV] END C=0.01, l1_ratio=0.8, multi_class=ovr, penalty=elasticnet, solver=newton-cg; total time=   0.0s\n",
      "[CV] END C=0.01, l1_ratio=0.8, multi_class=ovr, penalty=elasticnet, solver=newton-cg; total time=   0.0s\n",
      "[CV] END C=0.01, l1_ratio=0.8, multi_class=ovr, penalty=elasticnet, solver=newton-cg; total time=   0.0s\n",
      "              precision    recall  f1-score   support\n",
      "\n",
      "           0       0.59      0.48      0.53      1514\n",
      "           1       0.68      0.58      0.63      3933\n",
      "           2       0.68      0.77      0.72      6359\n",
      "\n",
      "    accuracy                           0.67     11806\n",
      "   macro avg       0.65      0.61      0.63     11806\n",
      "weighted avg       0.67      0.67      0.67     11806\n",
      "\n"
     ]
    },
    {
     "data": {
      "image/png": "[encoded data removed]",
      "text/plain": [
       "<Figure size 432x288 with 2 Axes>"
      ]
     },
     "metadata": {
      "needs_background": "light"
     },
     "output_type": "display_data"
    }
   ],
   "source": [
    "param_grid = {'penalty': ['l1','l2','elasticnet'],\n",
    "              'C': [0.001,0.01,0.1,1,10],\n",
    "              'solver': ['newton-cg', 'lbfgs', 'liblinear', 'sag', 'saga'],\n",
    "              'multi_class': ['ovr', 'multinomial'],\n",
    "              'l1_ratio': [0.2,0.5,0.8]\n",
    "             }\n",
    "\n",
    "grid_lr = RandomizedSearchCV(LogisticRegression(),param_grid,verbose=2)\n",
    "\n",
    "test_and_evaluate_model(grid_lr)"
   ]
  },
  {
   "cell_type": "code",
   "execution_count": null,
   "id": "9874832f",
   "metadata": {},
   "outputs": [],
   "source": []
  },
  {
   "cell_type": "code",
   "execution_count": null,
   "id": "6f92ce66",
   "metadata": {},
   "outputs": [],
   "source": []
  },
  {
   "cell_type": "code",
   "execution_count": null,
   "id": "0871702e",
   "metadata": {},
   "outputs": [],
   "source": []
  },
  {
   "cell_type": "code",
   "execution_count": null,
   "id": "c3d387dd",
   "metadata": {},
   "outputs": [],
   "source": []
  },
  {
   "cell_type": "code",
   "execution_count": null,
   "id": "7b908825",
   "metadata": {},
   "outputs": [],
   "source": []
  },
  {
   "cell_type": "markdown",
   "id": "dcc735a5",
   "metadata": {},
   "source": [
    "# KNN"
   ]
  },
  {
   "cell_type": "code",
   "execution_count": 57,
   "id": "bbcc2efb",
   "metadata": {},
   "outputs": [],
   "source": [
    "def elbow(k):\n",
    "    test_error=[]\n",
    "    for i in k:\n",
    "        clf=KNeighborsClassifier(n_neighbors=i)\n",
    "        clf.fit(train_X,train_y)\n",
    "        tmp=clf.predict(test_X)\n",
    "        tmp=f1_score(test_y,tmp,average=\"micro\")\n",
    "        error=1-tmp\n",
    "        test_error.append(error)\n",
    "    return test_error"
   ]
  },
  {
   "cell_type": "code",
   "execution_count": 59,
   "id": "76b093e9",
   "metadata": {},
   "outputs": [],
   "source": [
    "k=range(6,20)\n",
    "test=elbow(k)"
   ]
  },
  {
   "cell_type": "code",
   "execution_count": 61,
   "id": "af5cc77a",
   "metadata": {},
   "outputs": [
    {
     "data": {
      "text/plain": [
       "Text(0.5, 1.0, 'elbow curve for test')"
      ]
     },
     "execution_count": 61,
     "metadata": {},
     "output_type": "execute_result"
    },
    {
     "data": {
      "image/png": "[encoded data removed]",
      "text/plain": [
       "<Figure size 432x288 with 1 Axes>"
      ]
     },
     "metadata": {
      "needs_background": "light"
     },
     "output_type": "display_data"
    }
   ],
   "source": [
    "plt.plot(k,test)\n",
    "plt.xlabel(\"k Neighbors\")\n",
    "plt.ylabel(\"test_error\")\n",
    "plt.title(\"elbow curve for test\")"
   ]
  },
  {
   "cell_type": "code",
   "execution_count": 62,
   "id": "3fe8947d",
   "metadata": {},
   "outputs": [
    {
     "name": "stdout",
     "output_type": "stream",
     "text": [
      "              precision    recall  f1-score   support\n",
      "\n",
      "           0       0.69      0.76      0.72      6054\n",
      "           1       0.78      0.86      0.82     15730\n",
      "           2       0.86      0.79      0.83     25438\n",
      "\n",
      "    accuracy                           0.81     47222\n",
      "   macro avg       0.78      0.80      0.79     47222\n",
      "weighted avg       0.81      0.81      0.81     47222\n",
      "\n"
     ]
    },
    {
     "data": {
      "image/png": "[encoded data removed]",
      "text/plain": [
       "<Figure size 432x288 with 2 Axes>"
      ]
     },
     "metadata": {
      "needs_background": "light"
     },
     "output_type": "display_data"
    }
   ],
   "source": [
    "train_and_evaluate_model(KNeighborsClassifier(n_neighbors=6))"
   ]
  },
  {
   "cell_type": "code",
   "execution_count": 65,
   "id": "9927668d",
   "metadata": {},
   "outputs": [
    {
     "name": "stdout",
     "output_type": "stream",
     "text": [
      "              precision    recall  f1-score   support\n",
      "\n",
      "           0       0.58      0.64      0.61      1514\n",
      "           1       0.72      0.78      0.75      3933\n",
      "           2       0.79      0.74      0.76      6359\n",
      "\n",
      "    accuracy                           0.74     11806\n",
      "   macro avg       0.70      0.72      0.71     11806\n",
      "weighted avg       0.74      0.74      0.74     11806\n",
      "\n"
     ]
    },
    {
     "data": {
      "image/png": "[encoded data removed]",
      "text/plain": [
       "<Figure size 432x288 with 2 Axes>"
      ]
     },
     "metadata": {
      "needs_background": "light"
     },
     "output_type": "display_data"
    }
   ],
   "source": [
    "test_and_evaluate_model(KNeighborsClassifier(n_neighbors=6))"
   ]
  },
  {
   "cell_type": "code",
   "execution_count": 70,
   "id": "0a91bc91",
   "metadata": {},
   "outputs": [
    {
     "data": {
      "text/plain": [
       "array([0, 0, 0, ..., 1, 2, 1])"
      ]
     },
     "execution_count": 70,
     "metadata": {},
     "output_type": "execute_result"
    }
   ],
   "source": [
    "y"
   ]
  },
  {
   "cell_type": "code",
   "execution_count": 71,
   "id": "fcbb7459",
   "metadata": {},
   "outputs": [],
   "source": [
    "from sklearn.model_selection import validation_curve\n",
    "param_range =[1,3,6,9]\n",
    "train_score, test_score = validation_curve(KNeighborsClassifier(), train_X, train_y,\n",
    "                                           param_name=\"n_neighbors\",\n",
    "                                           param_range=param_range,\n",
    "                                           cv=5, scoring=\"accuracy\")"
   ]
  },
  {
   "cell_type": "code",
   "execution_count": 72,
   "id": "8f81c6dc",
   "metadata": {},
   "outputs": [],
   "source": [
    "mean_train_score = np.mean(train_score, axis=1)\n",
    "std_train_score = np.std(train_score, axis=1)\n",
    " "
   ]
  },
  {
   "cell_type": "code",
   "execution_count": 73,
   "id": "281235fc",
   "metadata": {},
   "outputs": [],
   "source": [
    "mean_test_score = np.mean(test_score, axis=1)\n",
    "std_test_score = np.std(test_score, axis=1)"
   ]
  },
  {
   "cell_type": "code",
   "execution_count": 74,
   "id": "a80dad77",
   "metadata": {},
   "outputs": [
    {
     "data": {
      "image/png": "[encoded data removed]",
      "text/plain": [
       "<Figure size 432x288 with 1 Axes>"
      ]
     },
     "metadata": {
      "needs_background": "light"
     },
     "output_type": "display_data"
    }
   ],
   "source": [
    "plt.plot(param_range, mean_train_score,\n",
    "         label=\"Training Score\", color='b')\n",
    "plt.plot(param_range, mean_test_score,\n",
    "         label=\"Cross Validation Score\", color='g')\n",
    "plt.title(\"Validation Curve with KNN Classifier\")\n",
    "plt.xlabel(\"Number of Neighbours\")\n",
    "plt.ylabel(\"Accuracy\")\n",
    "plt.tight_layout()\n",
    "plt.legend(loc='best')\n",
    "plt.show()"
   ]
  },
  {
   "cell_type": "code",
   "execution_count": 75,
   "id": "81359e59",
   "metadata": {},
   "outputs": [
    {
     "name": "stdout",
     "output_type": "stream",
     "text": [
      "              precision    recall  f1-score   support\n",
      "\n",
      "           0       0.69      0.69      0.69      6054\n",
      "           1       0.79      0.79      0.79     15730\n",
      "           2       0.82      0.82      0.82     25438\n",
      "\n",
      "    accuracy                           0.79     47222\n",
      "   macro avg       0.76      0.76      0.76     47222\n",
      "weighted avg       0.79      0.79      0.79     47222\n",
      "\n"
     ]
    },
    {
     "data": {
      "image/png": "[encoded data removed]",
      "text/plain": [
       "<Figure size 432x288 with 2 Axes>"
      ]
     },
     "metadata": {
      "needs_background": "light"
     },
     "output_type": "display_data"
    }
   ],
   "source": [
    "train_and_evaluate_model(KNeighborsClassifier(n_neighbors=9))"
   ]
  },
  {
   "cell_type": "code",
   "execution_count": 61,
   "id": "f36bd063",
   "metadata": {},
   "outputs": [
    {
     "name": "stdout",
     "output_type": "stream",
     "text": [
      "              precision    recall  f1-score   support\n",
      "\n",
      "           0       0.59      0.60      0.60      1514\n",
      "           1       0.74      0.73      0.74      3933\n",
      "           2       0.77      0.77      0.77      6359\n",
      "\n",
      "    accuracy                           0.74     11806\n",
      "   macro avg       0.70      0.70      0.70     11806\n",
      "weighted avg       0.74      0.74      0.74     11806\n",
      "\n"
     ]
    },
    {
     "data": {
      "image/png": "[encoded data removed]",
      "text/plain": [
       "<Figure size 432x288 with 2 Axes>"
      ]
     },
     "metadata": {
      "needs_background": "light"
     },
     "output_type": "display_data"
    }
   ],
   "source": [
    "test_and_evaluate_model(KNeighborsClassifier(n_neighbors=9))"
   ]
  },
  {
   "cell_type": "code",
   "execution_count": 62,
   "id": "b0bbd65d",
   "metadata": {},
   "outputs": [
    {
     "data": {
      "text/html": [
       "<div>\n",
       "<style scoped>\n",
       "    .dataframe tbody tr th:only-of-type {\n",
       "        vertical-align: middle;\n",
       "    }\n",
       "\n",
       "    .dataframe tbody tr th {\n",
       "        vertical-align: top;\n",
       "    }\n",
       "\n",
       "    .dataframe thead th {\n",
       "        text-align: right;\n",
       "    }\n",
       "</style>\n",
       "<table border=\"1\" class=\"dataframe\">\n",
       "  <thead>\n",
       "    <tr style=\"text-align: right;\">\n",
       "      <th></th>\n",
       "      <th>model</th>\n",
       "      <th>accuracy</th>\n",
       "      <th>precision</th>\n",
       "      <th>recall</th>\n",
       "      <th>f1_score</th>\n",
       "    </tr>\n",
       "  </thead>\n",
       "  <tbody>\n",
       "    <tr>\n",
       "      <th>0</th>\n",
       "      <td>(DecisionTreeClassifier(max_features='auto', r...</td>\n",
       "      <td>0.810097</td>\n",
       "      <td>0.810097</td>\n",
       "      <td>0.810097</td>\n",
       "      <td>0.810097</td>\n",
       "    </tr>\n",
       "    <tr>\n",
       "      <th>1</th>\n",
       "      <td>RandomizedSearchCV(cv=5, estimator=RandomFores...</td>\n",
       "      <td>0.809165</td>\n",
       "      <td>0.809165</td>\n",
       "      <td>0.809165</td>\n",
       "      <td>0.809165</td>\n",
       "    </tr>\n",
       "    <tr>\n",
       "      <th>4</th>\n",
       "      <td>KNeighborsClassifier(n_neighbors=9)</td>\n",
       "      <td>0.738184</td>\n",
       "      <td>0.738184</td>\n",
       "      <td>0.738184</td>\n",
       "      <td>0.738184</td>\n",
       "    </tr>\n",
       "    <tr>\n",
       "      <th>2</th>\n",
       "      <td>LogisticRegression(multi_class='multinomial', ...</td>\n",
       "      <td>0.669829</td>\n",
       "      <td>0.669829</td>\n",
       "      <td>0.669829</td>\n",
       "      <td>0.669829</td>\n",
       "    </tr>\n",
       "    <tr>\n",
       "      <th>3</th>\n",
       "      <td>RandomizedSearchCV(estimator=LogisticRegressio...</td>\n",
       "      <td>0.669744</td>\n",
       "      <td>0.669744</td>\n",
       "      <td>0.669744</td>\n",
       "      <td>0.669744</td>\n",
       "    </tr>\n",
       "  </tbody>\n",
       "</table>\n",
       "</div>"
      ],
      "text/plain": [
       "                                               model  accuracy  precision  \\\n",
       "0  (DecisionTreeClassifier(max_features='auto', r...  0.810097   0.810097   \n",
       "1  RandomizedSearchCV(cv=5, estimator=RandomFores...  0.809165   0.809165   \n",
       "4                KNeighborsClassifier(n_neighbors=9)  0.738184   0.738184   \n",
       "2  LogisticRegression(multi_class='multinomial', ...  0.669829   0.669829   \n",
       "3  RandomizedSearchCV(estimator=LogisticRegressio...  0.669744   0.669744   \n",
       "\n",
       "     recall  f1_score  \n",
       "0  0.810097  0.810097  \n",
       "1  0.809165  0.809165  \n",
       "4  0.738184  0.738184  \n",
       "2  0.669829  0.669829  \n",
       "3  0.669744  0.669744  "
      ]
     },
     "execution_count": 62,
     "metadata": {},
     "output_type": "execute_result"
    }
   ],
   "source": [
    "model_performmance=pd.DataFrame({\"model\":model_names1,\"accuracy\":accuracy_scores1,\n",
    "                                \"precision\":precision_scores1,\"recall\":recall_scores1,\n",
    "                                \"f1_score\":f1_scores1}).sort_values(\"accuracy\",ascending=False)\n",
    "model_performmance"
   ]
  },
  {
   "cell_type": "code",
   "execution_count": null,
   "id": "b2b859c2",
   "metadata": {},
   "outputs": [],
   "source": []
  },
  {
   "cell_type": "code",
   "execution_count": null,
   "id": "63b048b1",
   "metadata": {},
   "outputs": [],
   "source": []
  },
  {
   "cell_type": "code",
   "execution_count": null,
   "id": "1b64df6a",
   "metadata": {},
   "outputs": [],
   "source": []
  },
  {
   "cell_type": "code",
   "execution_count": null,
   "id": "0b5c22b3",
   "metadata": {},
   "outputs": [],
   "source": []
  },
  {
   "cell_type": "code",
   "execution_count": null,
   "id": "e09a38d3",
   "metadata": {},
   "outputs": [],
   "source": []
  },
  {
   "cell_type": "code",
   "execution_count": 65,
   "id": "a0e44014",
   "metadata": {},
   "outputs": [
    {
     "data": {
      "text/plain": [
       "(59028, 23)"
      ]
     },
     "execution_count": 65,
     "metadata": {},
     "output_type": "execute_result"
    }
   ],
   "source": [
    "X.shape"
   ]
  },
  {
   "cell_type": "markdown",
   "id": "51093b88",
   "metadata": {},
   "source": [
    "## backpropogation"
   ]
  },
  {
   "cell_type": "code",
   "execution_count": 78,
   "id": "23c78db1",
   "metadata": {},
   "outputs": [],
   "source": [
    "learning_rate = 0.1\n",
    "iterations = 5000\n",
    "N = train_y.size\n",
    "# number of input features\n",
    "input_size = 23\n",
    "# number of hidden layers neurons\n",
    "hidden_size = 2\n",
    "# number of neurons at the output layer\n",
    "output_size = 3\n",
    "results = pd.DataFrame(columns=[\"mse\", \"accuracy\"])"
   ]
  },
  {
   "cell_type": "code",
   "execution_count": 80,
   "id": "d2de7970",
   "metadata": {},
   "outputs": [
    {
     "name": "stdout",
     "output_type": "stream",
     "text": [
      "Weight for the hidden layer \n",
      " [[ 0.66579325  0.35763949]\n",
      " [-0.77270015 -0.00419192]\n",
      " [ 0.31066799 -0.36004278]\n",
      " [ 0.13275579  0.05427426]\n",
      " [ 0.00214572 -0.08730011]\n",
      " [ 0.21651309  0.60151869]\n",
      " [-0.48253284  0.51413704]\n",
      " [ 0.11431507  0.22256881]\n",
      " [-0.56830111  0.06756844]\n",
      " [ 0.7422685  -0.53990244]\n",
      " [-0.98886414 -0.87168615]\n",
      " [ 0.13303508  1.19248367]\n",
      " [ 0.56184563  0.83631111]\n",
      " [ 0.04957461  0.69899819]\n",
      " [-0.13562399  0.30660209]\n",
      " [-0.13365859 -0.27465451]\n",
      " [ 0.06635415 -0.23807101]\n",
      " [ 0.65423654  0.09750664]\n",
      " [ 0.20010499 -0.16881617]\n",
      " [ 0.62823613 -0.36598475]\n",
      " [ 0.33011578 -0.17543595]\n",
      " [-0.46971668 -0.24466861]\n",
      " [-0.40229557 -0.10634882]] \n",
      "\n",
      "Weight for the output layer \n",
      " [[-0.16957012  0.15608497  0.28257633]\n",
      " [-0.07371013 -0.01295267  0.1445471 ]]\n"
     ]
    }
   ],
   "source": [
    "np.random.seed(10)\n",
    "# initializing weight for the hidden layer\n",
    "W1 = np.random.normal(scale=0.5, size=(input_size, hidden_size))\n",
    "print(\"Weight for the hidden layer \\n\", W1, \"\\n\")\n",
    "# initializing weight for the output layer\n",
    "W2 = np.random.normal(scale=0.5, size=(hidden_size , output_size))\n",
    "print(\"Weight for the output layer \\n\", W2)"
   ]
  },
  {
   "cell_type": "code",
   "execution_count": 103,
   "id": "2ffade8f",
   "metadata": {},
   "outputs": [],
   "source": [
    "def sigmoid(x):\n",
    "    return 1 / (1 + np.exp(-x))\n",
    "def mean_squared_error(y_pred, y_true):\n",
    "    y_true_one_hot = np.eye(output_size)[y_true]\n",
    "    y_true_reshaped = y_true_one_hot.reshape(y_pred.shape)\n",
    "    return ((y_pred - y_true_reshaped)**2).sum() / (2*y_pred.size)\n",
    "def accuracy(y_pred, y_true):\n",
    "    acc = y_pred.argmax(axis=1) == y_true.argmax(axis=1)\n",
    "    return acc.mean()"
   ]
  },
  {
   "cell_type": "code",
   "execution_count": 104,
   "id": "4cbfaa6c",
   "metadata": {},
   "outputs": [
    {
     "name": "stdout",
     "output_type": "stream",
     "text": [
      "(2, 3)\n",
      "(47222, 3)\n",
      "(47222,)\n"
     ]
    }
   ],
   "source": [
    "print(W2.shape)\n",
    "print(A2.shape)\n",
    "print(train_y.shape)"
   ]
  },
  {
   "cell_type": "code",
   "execution_count": 109,
   "id": "09e91c2a",
   "metadata": {},
   "outputs": [],
   "source": [
    "import warnings\n",
    "\n",
    "warnings.filterwarnings('ignore')\n",
    "for itr in range(iterations):\n",
    "    Z1 = np.dot(train_X, W1)\n",
    "    A1 = sigmoid(Z1)\n",
    "    Z2 = np.dot(A1, W2)\n",
    "    A2 = sigmoid(Z2)\n",
    "    mse = mean_squared_error(A2,train_y)\n",
    "    acc = accuracy(np.eye(output_size)[train_y], A2)\n",
    "    results=results.append({\"mse\":mse, \"accuracy\":acc},ignore_index=True )\n",
    "    # backpropagation\n",
    "    E1 = A2 - np.eye(output_size)[train_y]\n",
    "    dW1 = E1 * A2 * (1 - A2)\n",
    "    E2 = np.dot(dW1, W2.T)\n",
    "    dW2 = E2 * A1 * (1 - A1)\n",
    "\n",
    "    # weight updates\n",
    "    W2_update = np.dot(A1.T, dW1) / N\n",
    "    W1_update = np.dot(train_X.T, dW2) / N\n",
    "    W2 = W2 - learning_rate * W2_update\n",
    "    W1 = W1 - learning_rate * W1_update"
   ]
  },
  {
   "cell_type": "code",
   "execution_count": 110,
   "id": "77988703",
   "metadata": {},
   "outputs": [
    {
     "data": {
      "text/plain": [
       "<AxesSubplot:title={'center':'Mean Squared Error'}>"
      ]
     },
     "execution_count": 110,
     "metadata": {},
     "output_type": "execute_result"
    },
    {
     "data": {
      "image/png": "[encoded data removed]",
      "text/plain": [
       "<Figure size 432x288 with 1 Axes>"
      ]
     },
     "metadata": {
      "needs_background": "light"
     },
     "output_type": "display_data"
    }
   ],
   "source": [
    "results.mse.plot(title=\"Mean Squared Error\")"
   ]
  },
  {
   "cell_type": "code",
   "execution_count": 111,
   "id": "3a7e3e54",
   "metadata": {},
   "outputs": [
    {
     "data": {
      "text/plain": [
       "<AxesSubplot:title={'center':'Accuracy'}>"
      ]
     },
     "execution_count": 111,
     "metadata": {},
     "output_type": "execute_result"
    },
    {
     "data": {
      "image/png": "[encoded data removed]",
      "text/plain": [
       "<Figure size 432x288 with 1 Axes>"
      ]
     },
     "metadata": {
      "needs_background": "light"
     },
     "output_type": "display_data"
    }
   ],
   "source": [
    "results.accuracy.plot(title=\"Accuracy\")"
   ]
  },
  {
   "cell_type": "code",
   "execution_count": 115,
   "id": "a6aaa353",
   "metadata": {},
   "outputs": [
    {
     "name": "stdout",
     "output_type": "stream",
     "text": [
      "Accuracy: 0.6504319837370829\n"
     ]
    }
   ],
   "source": [
    "Z1 = np.dot(test_X, W1)\n",
    "A1 = sigmoid(Z1)\n",
    "Z2 = np.dot(A1, W2)\n",
    "A2 = sigmoid(Z2)\n",
    "acc = accuracy(np.eye(output_size)[test_y], A2)\n",
    "\n",
    "print(\"Accuracy: {}\".format(acc))"
   ]
  },
  {
   "cell_type": "code",
   "execution_count": null,
   "id": "7a220ac3",
   "metadata": {},
   "outputs": [],
   "source": []
  },
  {
   "cell_type": "code",
   "execution_count": 24,
   "id": "907c9216",
   "metadata": {},
   "outputs": [],
   "source": [
    "model=RandomForestClassifier()"
   ]
  },
  {
   "cell_type": "code",
   "execution_count": 28,
   "id": "b02fb063",
   "metadata": {},
   "outputs": [
    {
     "name": "stdout",
     "output_type": "stream",
     "text": [
      "Fold: 1, Class dist.: [ 5448 14157 22894], Acc: 0.803\n",
      "Fold: 2, Class dist.: [ 5448 14157 22894], Acc: 0.799\n",
      "Fold: 3, Class dist.: [ 5448 14157 22895], Acc: 0.812\n",
      "Fold: 4, Class dist.: [ 5448 14157 22895], Acc: 0.806\n",
      "Fold: 5, Class dist.: [ 5449 14157 22894], Acc: 0.794\n",
      "Fold: 6, Class dist.: [ 5449 14157 22894], Acc: 0.794\n",
      "Fold: 7, Class dist.: [ 5449 14157 22894], Acc: 0.812\n",
      "Fold: 8, Class dist.: [ 5449 14157 22894], Acc: 0.806\n",
      "Fold: 9, Class dist.: [ 5449 14157 22894], Acc: 0.801\n",
      "Fold: 10, Class dist.: [ 5449 14157 22894], Acc: 0.792\n"
     ]
    }
   ],
   "source": [
    "from sklearn.model_selection import StratifiedKFold\n",
    "kfold = StratifiedKFold(n_splits=10, shuffle=True, random_state=1)\n",
    "scores = []\n",
    "folds=list(kfold.split(train_X,train_y))\n",
    "for k,(train,test) in enumerate(folds):\n",
    "    model.fit(train_X[train], train_y[train])\n",
    "    score = model.score(train_X[test], train_y[test])\n",
    "    scores.append(score)\n",
    "    print('Fold: %s, Class dist.: %s, Acc: %.3f' % (k+1, np.bincount(train_y[train]),score))"
   ]
  },
  {
   "cell_type": "code",
   "execution_count": 29,
   "id": "e8507187",
   "metadata": {},
   "outputs": [
    {
     "name": "stdout",
     "output_type": "stream",
     "text": [
      "CV accuracy: 0.802 +/- 0.007\n"
     ]
    }
   ],
   "source": [
    "print('CV accuracy: %.3f +/- %.3f' % (np.mean(scores), np.std(scores)))"
   ]
  },
  {
   "cell_type": "code",
   "execution_count": 2,
   "id": "d259f1f5",
   "metadata": {},
   "outputs": [
    {
     "name": "stdout",
     "output_type": "stream",
     "text": [
      "Collecting xgboost\n",
      "  Downloading xgboost-1.7.6-py3-none-win_amd64.whl (70.9 MB)\n",
      "Requirement already satisfied: numpy in c:\\users\\pratheek\\anaconda3\\lib\\site-packages (from xgboost) (1.21.5)\n",
      "Requirement already satisfied: scipy in c:\\users\\pratheek\\anaconda3\\lib\\site-packages (from xgboost) (1.7.3)\n",
      "Installing collected packages: xgboost\n",
      "Successfully installed xgboost-1.7.6\n"
     ]
    }
   ],
   "source": [
    "!pip3 install xgboost"
   ]
  },
  {
   "cell_type": "code",
   "execution_count": 3,
   "id": "4a303c01",
   "metadata": {},
   "outputs": [],
   "source": [
    "import xgboost as xgb"
   ]
  },
  {
   "cell_type": "code",
   "execution_count": 4,
   "id": "fd64d67d",
   "metadata": {},
   "outputs": [],
   "source": [
    "model = xgb.XGBClassifier()"
   ]
  },
  {
   "cell_type": "code",
   "execution_count": 25,
   "id": "78e5dc6d",
   "metadata": {},
   "outputs": [
    {
     "name": "stdout",
     "output_type": "stream",
     "text": [
      "              precision    recall  f1-score   support\n",
      "\n",
      "           0       0.81      0.78      0.79      6054\n",
      "           1       0.82      0.84      0.83     15730\n",
      "           2       0.85      0.85      0.85     25438\n",
      "\n",
      "    accuracy                           0.84     47222\n",
      "   macro avg       0.83      0.82      0.82     47222\n",
      "weighted avg       0.84      0.84      0.84     47222\n",
      "\n"
     ]
    },
    {
     "data": {
      "image/png": "[encoded data removed]",
      "text/plain": [
       "<Figure size 432x288 with 2 Axes>"
      ]
     },
     "metadata": {
      "needs_background": "light"
     },
     "output_type": "display_data"
    }
   ],
   "source": [
    "train_and_evaluate_model(model)"
   ]
  },
  {
   "cell_type": "code",
   "execution_count": 26,
   "id": "8707c60f",
   "metadata": {},
   "outputs": [
    {
     "name": "stdout",
     "output_type": "stream",
     "text": [
      "              precision    recall  f1-score   support\n",
      "\n",
      "           0       0.68      0.67      0.68      1514\n",
      "           1       0.76      0.77      0.76      3933\n",
      "           2       0.79      0.79      0.79      6359\n",
      "\n",
      "    accuracy                           0.77     11806\n",
      "   macro avg       0.74      0.74      0.74     11806\n",
      "weighted avg       0.77      0.77      0.77     11806\n",
      "\n"
     ]
    },
    {
     "data": {
      "image/png": "[encoded data removed]",
      "text/plain": [
       "<Figure size 432x288 with 2 Axes>"
      ]
     },
     "metadata": {
      "needs_background": "light"
     },
     "output_type": "display_data"
    }
   ],
   "source": [
    "test_and_evaluate_model(model)"
   ]
  },
  {
   "cell_type": "code",
   "execution_count": null,
   "id": "87eb3861",
   "metadata": {},
   "outputs": [],
   "source": []
  },
  {
   "cell_type": "code",
   "execution_count": null,
   "id": "b27c0475",
   "metadata": {},
   "outputs": [],
   "source": []
  }
 ],
 "metadata": {
  "kernelspec": {
   "display_name": "Python 3 (ipykernel)",
   "language": "python",
   "name": "python3"
  },
  "language_info": {
   "codemirror_mode": {
    "name": "ipython",
    "version": 3
   },
   "file_extension": ".py",
   "mimetype": "text/x-python",
   "name": "python",
   "nbconvert_exporter": "python",
   "pygments_lexer": "ipython3",
   "version": "3.9.12"
  }
 },
 "nbformat": 4,
 "nbformat_minor": 5
}
